{
 "cells": [
  {
   "cell_type": "markdown",
   "id": "5cf3838f",
   "metadata": {},
   "source": [
    "# Evaluating the fundamental frequency using a Rayleigh-Ritz approach"
   ]
  },
  {
   "cell_type": "markdown",
   "id": "32b723f8",
   "metadata": {},
   "source": [
    "Written by *Montabert Arnaud & Giry Cédric, Laboratoire de Mécanique Paris-Saclay, August 22, 2023*\n",
    "\n",
    "**Citation:** *Montabert, A.; Giry, C.; Limoge Schraen, C.; Lépine, J.; Choueiri, C. Mercerat, E. D.; Guéguen, P. An Open Database to Evaluate the\n",
    "Fundamental Frequency of Historical Masonry Towers through Empirical and Physics-based Formulations. Buildings 2023*"
   ]
  },
  {
   "cell_type": "markdown",
   "id": "4c3d836e",
   "metadata": {},
   "source": [
    "This document provides an example of Python scripts used in [This study] to evaluate flexural bending modes using a Rayleigh-Ritz approach based on a Timoshenko beam formulation. Scripts are described and can used for single computation but also more extensive computation using the TURRIS database. The structural parameters $\\boldsymbol{p}$ for the tower are:\n",
    "\\begin{equation}\n",
    "\\boldsymbol{p}=\\left\\{H,S,I_y,k,E, \\nu,\\rho,k_s,k_r,k_n,h_n,M_b,h_b\\right\\}\n",
    "\\end{equation}\n",
    "These parameters are descibed in Fig. 1 and Table 1."
   ]
  },
  {
   "cell_type": "markdown",
   "id": "303af03b",
   "metadata": {},
   "source": [
    "<p align=\"center\">\n",
    "<img src=\"./figure/timo_SAM.png\" alt=\"tower_model\" width=\"400\" height=\"auto\">\n",
    "</p>"
   ]
  },
  {
   "cell_type": "markdown",
   "id": "302c00cb",
   "metadata": {},
   "source": [
    "**Figure 1**: Model of the bell tower of Sant'Agata del Mugello and its interaction with the adjacent nave and the ground."
   ]
  },
  {
   "cell_type": "markdown",
   "id": "e2c2ca6c",
   "metadata": {},
   "source": [
    "|      Symbol      |    Unit    |             Description                                             |\n",
    "| :---             |   :----:   | :---                                                                |\n",
    "| $\\boldsymbol{p}$ |            | Set of global geometrical parameters                                |\n",
    "| $H$              |   [m]      | Height of the tower                                                 |\n",
    "|$\\ell_s$          |   [m]      | Width, lowest size of the tower’s section                           |\n",
    "|$h_n$             |   [m]      | Height of interaction between the tower and any adjacent structures |\n",
    "|$h_b$             |   [m]      | Altitude of the bell system                                         |\n",
    "|$f_{0}$           |   [Hz]     | Eigenfrequency                                                      |\n",
    "|$L_s$             |   [m]      | Length, largest size of the tower's section                         |\n",
    "|$t_w$             |   [m]      | Wall's thickness                                                    |\n",
    "|$h_b$             |   [m]      | Altitude of the bell system                                         |\n",
    "|$S$               |   [$m^{2}$]| Surface area                                                        |\n",
    "|$I_{z}$ | [$m^4$] | Second moment of inertia                                                         |\n",
    "|$r$               |   [m]      | Radius of inertia                                                   |\n",
    "|$E$               |  [MPa]     | Young modulus                                                       |\n",
    "|$\\rho$            |[kg.$m^{-3}$]| Volumetric mass density                                            |\n",
    "|$\\nu$             |[-]          | Poisson ratio                                                      |\n",
    "|$k_s$             | [N.$m^{-1}$]| Soil/structure translational stiffness                             |\n",
    "|$k_r$             | [N]         | Soil/structure rotational stiffness                                |\n",
    "|$k_n$             | [N.$m^2$]   | Nave/structure translational stiffness                             |\n",
    "|$M_b$             | [kg]        | Mass of the bell system                                            |\n",
    "|$G$               | [Pa]        | Shear modulus                                                      |\n",
    "\n",
    "**Table 1**: Parameters and symbols used to describe the model."
   ]
  },
  {
   "cell_type": "markdown",
   "id": "d33dbcbf",
   "metadata": {},
   "source": [
    "## Rayleigh-Ritz method"
   ]
  },
  {
   "cell_type": "markdown",
   "id": "19065f8d",
   "metadata": {},
   "source": [
    "The potential energy $\\mathcal{V}$ and the kinetic energy $\\mathcal{T}$ write for the model described in Fig. 1, \n",
    "\\begin{align}\n",
    "\\mathcal{V}=\\mathcal{V}_{beam}+\\mathcal{V}_{SSI}+\\mathcal{V}_{TNI} \\\\\n",
    "\\mathcal{T}=\\mathcal{T}_{beam}+\\mathcal{T}_{bell}\n",
    "\\end{align}\n",
    "\n",
    "The energies associated to the beam $\\mathcal{V}_{beam}$ and $\\mathcal{T}_{beam}$ write, \n",
    "\\begin{align}\n",
    "\\mathcal{V}_{beam}&=\\frac{1}{2}\\int_0^H\\left\\{EI_z\\left(\\frac{\\partial \\theta}{\\partial x}\\right)^2+kGS\\left(\\theta-\\frac{\\partial v}{\\partial x}\\right)^2\\right\\}\\mathrm{d}x \\\\\n",
    "\\mathcal{T}_{beam}&=\\frac{1}{2}\\int_0^H\\left\\{ \\rho S \\left(\\frac{\\partial v}{\\partial t}\\right)^2+\\rho I_z \\left(\\frac{\\partial \\theta}{\\partial t}\\right)^2\\right\\} \\mathrm{d}x\n",
    "\\end{align}\n",
    "with $v(x,t)$ the transversal deflection and $\\theta(x,t)$ the normal rotation. For the sake of simplicity, the shear coefficient is estimated with the formulas for thin-walled in [1]\\\\\n",
    "The energy for the soil-structure interaction $\\mathcal{V}_{SSI}$ writes,\n",
    "\\begin{equation}\n",
    "\\mathcal{V}_{SSI}=\\frac{1}{2}\\left(k_r\\left(\\left.\\frac{\\partial v}{\\partial x}\\right|_0 \\right)^2 +k_s \\left(\\left.v\\right|_0\\right)^2\\right) \n",
    "\\end{equation}\n",
    "The energy for the tower-nave interaction $\\mathcal{V}_{TNI}$ writes,\n",
    "\\begin{equation}\n",
    "\\mathcal{V}_{TNI}=\\frac{1}{2}\\int_0^{h_n}k_n v^2 \\mathrm{d}x\n",
    "\\end{equation}\n",
    "The energy for the bell system $\\mathcal{V}_{bell}$ writes,\n",
    "\\begin{equation}\n",
    "\\mathcal{T}_{bell}=\\frac{1}{2}M_b\\left(\\left.\\frac{\\partial v}{\\partial t}\\right|_{h_b}\\right)^2\n",
    "\\end{equation}\n",
    "The displacement $v$ and the rotation $\\theta$ fields of the beam are approximated over simple polynomial functions $\\boldsymbol{\\varphi}(x)$ and $\\boldsymbol{\\vartheta}(x)$, and their coordinates in the polynomial basis $\\boldsymbol{R(t)}$, and $\\boldsymbol{V(t)}$,\n",
    "\\begin{equation}\n",
    "v(x,t)\\approx\\sum_{i=0}^{n_H}V_i(t)\\varphi_i(x),\\quad \\theta(x,t)\\approx\\sum_{i=0}^{n_r}R_i(t)\\vartheta_i(x)\n",
    "\\end{equation}\n",
    "For the sake of simplicity, admissible functions (functions satisfying all the geometric boundary conditions) [2] are considered for the basis. For the cantilever beam, the following functions are used [3]:\n",
    "\\begin{equation}\n",
    "    \\varphi_i(x)=\\left(\\frac{x}{H} \\right)^2\\cdot\\left(1-\\frac{x}{H}\\right)^{i-1}, \\quad \\vartheta_i(x)=\\left(\\frac{x}{H} \\right)\\cdot\\left(1-\\frac{x}{H}\\right)^{i-1}\n",
    "\\end{equation}\n",
    "In the presence of soil-structure interaction, the functions corresponding to free-free boundary conditions are considered [3],\n",
    "\\begin{equation}\n",
    "    \\varphi_i(x)=\\left(1-\\frac{x}{H}\\right)^{i-1}, \\quad \\vartheta_i(x)=\\left(1-\\frac{x}{H}\\right)^{i-1}\n",
    "\\end{equation}\n",
    "\n",
    "The size of the system for the Rayleigh-Ritz model is equal to $n_H+n_r$.\\\\\n",
    "By considering $\\boldsymbol{q}(\\boldsymbol{V}, \\boldsymbol{R})$ as a generalized coordinates system, the equations of Lagrange write,\n",
    "\\begin{equation}\n",
    "\\frac{\\mathrm{d}}{\\mathrm{d}}\\left(\\frac{\\partial\\mathcal{T}}{\\partial \\dot{\\boldsymbol{q}}}\\right)+\\left(\\frac{\\partial\\mathcal{V}}{\\partial \\boldsymbol{q}}\\right)=\\boldsymbol{0}\n",
    "\\end{equation}\n",
    "After some mathematical developments, the equations of motion are,\n",
    "\\begin{equation}\n",
    "\\boldsymbol{M}.\\ddot{\\boldsymbol{q}}+\\boldsymbol{K}.\\boldsymbol{q}=\\boldsymbol{0}\n",
    "\\end{equation}\n",
    "Finally, the approximation of the eigenfrequencies $f_{mod}^{(i)}$ and the mode shapes $\\mathcal{F}_i(\\boldsymbol{\\phi}^{(i)},x)$ are obtained by solving the generalized eigenvalues problem,\n",
    "\\begin{equation}\n",
    "\\left(\\boldsymbol{K}-\\left(2\\cdot\\pi\\cdot f_{mod}^{(i)}\\right)^2\\boldsymbol{M} \\right)\\boldsymbol{\\phi}^{(i)}=\\boldsymbol{0}\n",
    "\\end{equation}\n"
   ]
  },
  {
   "cell_type": "markdown",
   "id": "9a634903",
   "metadata": {},
   "source": [
    "## The *Beam* Python Class"
   ]
  },
  {
   "cell_type": "markdown",
   "id": "df591c62",
   "metadata": {},
   "source": [
    "The Ritz-Rayleigh approach is encoded in the *Beam* Python Class. Let's compute the flexural modes of a towers."
   ]
  },
  {
   "cell_type": "code",
   "execution_count": 2,
   "id": "68a53ca4",
   "metadata": {},
   "outputs": [],
   "source": [
    "from Beam import *"
   ]
  },
  {
   "cell_type": "markdown",
   "id": "e2d7c6d9",
   "metadata": {},
   "source": [
    "Three case studies *cas_study* can be computed depending on the interaction of the tower with its environment.\n",
    "- 1. Cantilever beam\n",
    "- 2. Cantilever beam with interaction with nave\n",
    "- 3. Cantilever beam with interaction with nave and soil"
   ]
  },
  {
   "cell_type": "code",
   "execution_count": 3,
   "id": "4b10a5a2",
   "metadata": {},
   "outputs": [],
   "source": [
    "cas_study = 1"
   ]
  },
  {
   "cell_type": "markdown",
   "id": "30bbacfa",
   "metadata": {},
   "source": [
    "The user can chose to compute the Timoshenko or the Euler-Bernouilli approach (parameter *model_ty*)."
   ]
  },
  {
   "cell_type": "code",
   "execution_count": 4,
   "id": "81dfb208",
   "metadata": {},
   "outputs": [],
   "source": [
    "model_ty = 'Timoshenko'"
   ]
  },
  {
   "cell_type": "markdown",
   "id": "4902a95d",
   "metadata": {},
   "source": [
    "Let's consisered a bounded tower interacting with soil with the following characteristics described in Table 1. "
   ]
  },
  {
   "cell_type": "code",
   "execution_count": 5,
   "id": "8816d579",
   "metadata": {},
   "outputs": [],
   "source": [
    "# ~~~ Global model ~~~\n",
    "H = 15                                                # Height of the tower\n",
    "# ~~~ Tower model  ~~~\n",
    "tw  = 0.9                                             # Wall thickness\n",
    "Ls =  3.2                                             # Length\n",
    "ls = 3.                                               # Width \n",
    "S   = Ls*ls - ((Ls-2*tw)*(ls-2*tw))                   # Surface section\n",
    "Iz  = (Ls*(ls**3))/12 - ((Ls-2*tw)*((ls-2*tw)**3))/12 # Second moment of inertia\n",
    "rho = 2200.                                           # Density\n",
    "E   = 2.5e9                                           # Young modulus\n",
    "nu = 0.3                                              # Poisson ratio\n",
    "G = E/(2*(1+nu))                                      # Shear modulus\n",
    "m = ((Ls-2*tw)*tw)/(ls*tw)                          \n",
    "n = (Ls-2*tw)/ls\n",
    "# shear (see [1])\n",
    "kshear = (10*(1+nu)*(1+3*m)**2)/((12+72*m+150*m**2+90*m**3)+nu*(11+66*m+135*m**2+90*m**3)+10*n**2*((3+nu)*m+3*m**2))\n",
    "# ~~~ Bell characteristics ~~~\n",
    "hb = H                                                # Altitude of the bell system\n",
    "Mb = 1000.                                            # Mass of the bell system\n",
    "# ~~~ Soil/Structure interaction ~~~\n",
    "ks    = 1.e7                                          # Soil/structure translational stiffness\n",
    "kro   = 1.e8                                          # Soil/structure rotational stiffness\n",
    "I0tow = rho*H*((Ls*H**2*ls/3+ls**2/12)-((Ls-2*tw)*H**2*(ls-2*tw)/3+(ls-2*tw)**2/12))\n",
    "# ~~~ Adjacent building interaction ~~~\n",
    "hn= 10.                                               # Interaction height\n",
    "kN = 1.e9/hn                                          # Nave/structure translational stiffness"
   ]
  },
  {
   "cell_type": "markdown",
   "id": "f61f393e",
   "metadata": {},
   "source": [
    "The aforementioned polynomial basis is defined as:"
   ]
  },
  {
   "cell_type": "code",
   "execution_count": 6,
   "id": "db20ad7d",
   "metadata": {},
   "outputs": [],
   "source": [
    "npol = 10 ; typep = 'Timo_poly' ;\n",
    "paramPoly = {\"npol\":npol,\"type\":typep,\"npolt\":npol}"
   ]
  },
  {
   "cell_type": "markdown",
   "id": "80102d9d",
   "metadata": {},
   "source": [
    "Let's assemble the model depending of the selected case study (*cas_study*)."
   ]
  },
  {
   "cell_type": "code",
   "execution_count": 7,
   "id": "581ea6b5",
   "metadata": {},
   "outputs": [],
   "source": [
    "# ~~~ Global model ~~~\n",
    "paramM = {\"H\":H, \"Beam_model\":model_ty}\n",
    "# ~~~ Tower model  ~~~\n",
    "paramT = {\"S\":S,\"Iz\":Iz,\"rho\":rho,\"E\":E,\"kshear\":kshear,\"G\": G}\n",
    "# ~~~ Bell characteristics ~~~\n",
    "paramb = {\"hb\":hb,\"Mb\":Mb} \n",
    "# ~~~ Soil/Structure interaction ~~~\n",
    "paramssi={\"ks\":ks,\"kro\":kro,\"I0tow\":I0tow} \n",
    "# ~~~ Adjacent building interaction ~~~\n",
    "paramtni = {\"kN\":kN,\"h\":hn}  \n",
    "\n",
    "# ~~~ Assemble the global model ~~~\n",
    "if cas_study==1:\n",
    "\tparam={\"Model\":paramM,\"Tower\":paramT,\"Poly\": paramPoly}\n",
    "elif cas_study==2:\n",
    "\tparam={\"Model\":paramM,\"Tower\":paramT,\"TNI\":paramtni,\"Poly\": paramPoly}\n",
    "elif cas_study==3:\n",
    "\tparam={\"Model\":paramM,\"Tower\":paramT,\"TNI\":paramtni,\"SSI\":paramssi,\"Poly\": paramPoly}\n",
    "else:\n",
    "\tdisp('Case not implemented')"
   ]
  },
  {
   "cell_type": "markdown",
   "id": "f1e2b741",
   "metadata": {},
   "source": [
    "Eigenfrequencies and eigenvectors of the three first flexural modes are evaluated."
   ]
  },
  {
   "cell_type": "code",
   "execution_count": 8,
   "id": "1ae26aa7",
   "metadata": {},
   "outputs": [
    {
     "name": "stderr",
     "output_type": "stream",
     "text": [
      "/home/arnaud/Documents/POSTDOC/ENS_PS/EMPIRICAL_F0/CODE/TURRIS/Beam.py:220: IntegrationWarning: The occurrence of roundoff error is detected, which prevents \n",
      "  the requested tolerance from being achieved.  The error may be \n",
      "  underestimated.\n",
      "  k_ij = quad(f,0, self.H)[0]\n",
      "/home/arnaud/Documents/POSTDOC/ENS_PS/EMPIRICAL_F0/CODE/TURRIS/Beam.py:245: IntegrationWarning: The occurrence of roundoff error is detected, which prevents \n",
      "  the requested tolerance from being achieved.  The error may be \n",
      "  underestimated.\n",
      "  k_ij = quad(f,0, self.H)[0]\n"
     ]
    }
   ],
   "source": [
    "# DEFINITION OF THE MODEL\n",
    "# -----------------------\n",
    "Model = ModelBellTower(param)\n",
    "\n",
    "# MODAL ANALYSIS\n",
    "# --------------\n",
    "freq, shape, defo = Model.modal_analysis()"
   ]
  },
  {
   "cell_type": "code",
   "execution_count": 9,
   "id": "e2b9c307",
   "metadata": {},
   "outputs": [
    {
     "data": {
      "image/png": "[encoded data removed]",
      "text/plain": [
       "<Figure size 640x480 with 1 Axes>"
      ]
     },
     "metadata": {},
     "output_type": "display_data"
    }
   ],
   "source": [
    "li_z = np.linspace(0, H, 40)\n",
    "x = sym.symbols('x')\n",
    "test_figure = True\n",
    "if test_figure:\n",
    "\tplt.figure()\n",
    "\tfor i in range(3):\n",
    "\t\ttext = 'Mode '+str(i+1)+' - f: '+str(round(freq[i],2))+' Hz'\n",
    "\t\tif Model.beam == 'Timoshenko':\n",
    "\t\t\tmode = [defo[0][i].subs(x, value) for value in li_z]\n",
    "\t\telse:\n",
    "\t\t\tmode = [defo[i].subs(x, value) for value in li_z]\n",
    "\t\tplt.plot([item*1./np.max(np.abs(mode)) for item in mode], li_z,'o-',label = text)\n",
    "\tplt.legend()\n",
    "\tnfic = 'Case_'+str(cas_study)+'modes.png'\n",
    "\tplt.show()"
   ]
  },
  {
   "cell_type": "markdown",
   "id": "421fc96f",
   "metadata": {},
   "source": [
    "## References\n",
    "**[This study]** - Montabert, A.; Giry, C.; Limoge Schraen, C.; Lépine, J.; Choueiri, C. Mercerat, E. D.; Guéguen, P. An Open Database to Evaluate the\n",
    "Fundamental Frequency of Historical Masonry Towers through Empirical and Physics-based Formulations. Buildings 2023*\n",
    "\n",
    "**[1]** Cowper, G. The shear coefficient in Timoshenko’s beam theory. Journal of applied mechanics 1966, 33, 335–340.\n",
    "\n",
    "**[2]** Meirovitch, L. Analytical methods in vibrations.; New York, McMillan, 1967.\n",
    "\n",
    "**[3]** Mazanoglu, K. Natural frequency analyses of segmented Timoshenko–Euler beams using the Rayleigh–Ritz method. Journal of Vibration and Control 2017, 23, 2135–2154."
   ]
  }
 ],
 "metadata": {
  "kernelspec": {
   "display_name": "Python 3 (ipykernel)",
   "language": "python",
   "name": "python3"
  },
  "language_info": {
   "codemirror_mode": {
    "name": "ipython",
    "version": 3
   },
   "file_extension": ".py",
   "mimetype": "text/x-python",
   "name": "python",
   "nbconvert_exporter": "python",
   "pygments_lexer": "ipython3",
   "version": "3.7.0"
  }
 },
 "nbformat": 4,
 "nbformat_minor": 5
}
